{
 "cells": [
  {
   "cell_type": "code",
   "execution_count": 16,
   "id": "517d97b3-c164-444b-a68a-6c96e49dbda4",
   "metadata": {},
   "outputs": [
    {
     "name": "stdout",
     "output_type": "stream",
     "text": [
      "Requirement already satisfied: praw in c:\\users\\viadu\\anaconda3\\lib\\site-packages (7.8.1)\n",
      "Requirement already satisfied: python-dotenv in c:\\users\\viadu\\anaconda3\\lib\\site-packages (0.21.0)\n",
      "Requirement already satisfied: prawcore<3,>=2.4 in c:\\users\\viadu\\anaconda3\\lib\\site-packages (from praw) (2.4.0)\n",
      "Requirement already satisfied: update_checker>=0.18 in c:\\users\\viadu\\anaconda3\\lib\\site-packages (from praw) (0.18.0)\n",
      "Requirement already satisfied: websocket-client>=0.54.0 in c:\\users\\viadu\\anaconda3\\lib\\site-packages (from praw) (1.8.0)\n",
      "Requirement already satisfied: requests<3.0,>=2.6.0 in c:\\users\\viadu\\anaconda3\\lib\\site-packages (from prawcore<3,>=2.4->praw) (2.32.3)\n",
      "Requirement already satisfied: charset-normalizer<4,>=2 in c:\\users\\viadu\\anaconda3\\lib\\site-packages (from requests<3.0,>=2.6.0->prawcore<3,>=2.4->praw) (3.3.2)\n",
      "Requirement already satisfied: idna<4,>=2.5 in c:\\users\\viadu\\anaconda3\\lib\\site-packages (from requests<3.0,>=2.6.0->prawcore<3,>=2.4->praw) (3.7)\n",
      "Requirement already satisfied: urllib3<3,>=1.21.1 in c:\\users\\viadu\\anaconda3\\lib\\site-packages (from requests<3.0,>=2.6.0->prawcore<3,>=2.4->praw) (2.2.3)\n",
      "Requirement already satisfied: certifi>=2017.4.17 in c:\\users\\viadu\\anaconda3\\lib\\site-packages (from requests<3.0,>=2.6.0->prawcore<3,>=2.4->praw) (2025.1.31)\n"
     ]
    }
   ],
   "source": [
    "!pip install praw python-dotenv\n",
    "\n"
   ]
  },
  {
   "cell_type": "code",
   "execution_count": 22,
   "id": "1643c5cc-c3c1-4260-9a72-bd13f225e5fe",
   "metadata": {},
   "outputs": [
    {
     "name": "stdout",
     "output_type": "stream",
     "text": [
      "Scraping r/mentalhealth...\n"
     ]
    },
    {
     "name": "stderr",
     "output_type": "stream",
     "text": [
      "C:\\Users\\viadu\\AppData\\Local\\Temp\\ipykernel_14840\\3947900318.py:52: DeprecationWarning: datetime.datetime.utcfromtimestamp() is deprecated and scheduled for removal in a future version. Use timezone-aware objects to represent datetimes in UTC: datetime.datetime.fromtimestamp(timestamp, datetime.UTC).\n",
      "  \"timestamp\": datetime.utcfromtimestamp(post.created_utc).strftime('%Y-%m-%d %H:%M:%S')\n"
     ]
    },
    {
     "name": "stdout",
     "output_type": "stream",
     "text": [
      "Scraping r/cyberbullying...\n",
      "Scraping r/depression...\n",
      "Scraping r/anxiety...\n",
      "Scraping r/bullying...\n",
      "Scraping r/socialmedia...\n",
      "Scraping r/Advice...\n",
      "Scraping r/internetculture...\n",
      "✅ Scraping complete! Data saved in reddit_scraped_posts.json\n"
     ]
    }
   ],
   "source": [
    "import praw\n",
    "import json\n",
    "from datetime import datetime\n",
    "\n",
    "# 🔑 Reddit API Credentials (Replace these with your actual credentials)\n",
    "REDDIT_CLIENT_ID = \"fc9v3GFBTt-v05J0JRkQBg\"\n",
    "REDDIT_CLIENT_SECRET = \"MwEoVLTH0UbVU290qPYG7SJHHHs4YA\"\n",
    "REDDIT_USERNAME = \"Snoo_41188\"\n",
    "REDDIT_PASSWORD = \"Mynameisvia10!\"\n",
    "REDDIT_USER_AGENT = \"MyScraper/0.1\"  # Custom user agent\n",
    "\n",
    "# ✅ Authenticate with Reddit API\n",
    "reddit = praw.Reddit(\n",
    "    client_id=REDDIT_CLIENT_ID,\n",
    "    client_secret=REDDIT_CLIENT_SECRET,\n",
    "    user_agent=REDDIT_USER_AGENT,\n",
    "    username=REDDIT_USERNAME,\n",
    "    password=REDDIT_PASSWORD\n",
    ")\n",
    "\n",
    "subreddits = [\n",
    "    \"mentalhealth\", \"cyberbullying\", \"depression\", \"anxiety\", \n",
    "    \"bullying\", \"socialmedia\", \"Advice\", \"internetculture\"\n",
    "]\n",
    "\n",
    "# 🔍 Keywords for Filtering (focus on experiences, impact, and solutions)\n",
    "keywords = [\n",
    "    \"I was bullied\", \"I was harassed\", \"I was trolled\", \"I was cyberbullied\",\n",
    "    \"cyberbullying effects\", \"mental health and cyberbullying\", \n",
    "    \"how to report harassment\", \"overcoming cyberbullying\",\n",
    "    \"social media depression\", \"online abuse\", \"self-esteem\",\n",
    "    \"I need advice on bullying\", \"I feel anxious online\"\n",
    "]\n",
    "# 🔢 Number of posts to scrape per subreddit\n",
    "post_limit = 2000\n",
    "\n",
    "# 📦 Store data\n",
    "data = []\n",
    "\n",
    "for subreddit_name in subreddits:\n",
    "    subreddit = reddit.subreddit(subreddit_name)\n",
    "    print(f\"Scraping r/{subreddit_name}...\")\n",
    "    \n",
    "    for post in subreddit.hot(limit=post_limit):  # Get 'hot' posts (change to .new() for latest)\n",
    "        data.append({\n",
    "            \"subreddit\": subreddit_name,\n",
    "            \"title\": post.title,\n",
    "            \"text\": post.selftext,\n",
    "            \"upvotes\": post.score,\n",
    "            \"comments\": post.num_comments,\n",
    "            \"url\": post.url,\n",
    "            \"timestamp\": datetime.utcfromtimestamp(post.created_utc).strftime('%Y-%m-%d %H:%M:%S')\n",
    "        })\n",
    "\n",
    "# 💾 Save data as JSON\n",
    "output_file = \"reddit_scraped_posts.json\"\n",
    "with open(output_file, \"w\", encoding=\"utf-8\") as f:\n",
    "    json.dump(data, f, indent=4)\n",
    "\n",
    "print(f\"✅ Scraping complete! Data saved in {output_file}\")"
   ]
  }
 ],
 "metadata": {
  "kernelspec": {
   "display_name": "Python [conda env:base] *",
   "language": "python",
   "name": "conda-base-py"
  },
  "language_info": {
   "codemirror_mode": {
    "name": "ipython",
    "version": 3
   },
   "file_extension": ".py",
   "mimetype": "text/x-python",
   "name": "python",
   "nbconvert_exporter": "python",
   "pygments_lexer": "ipython3",
   "version": "3.12.3"
  }
 },
 "nbformat": 4,
 "nbformat_minor": 5
}
